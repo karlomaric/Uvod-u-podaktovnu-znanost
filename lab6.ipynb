{
 "cells": [
  {
   "cell_type": "markdown",
   "metadata": {},
   "source": [
    "<center><h1> Uvod u podatkovnu znanost  </h1></center>\n",
    "<center><h2> Zimski semestar - 2022 </h2></center> \n",
    "<center><h3> Lab 6</h3></center> \n",
    "<center><h3> </h3></center> \n",
    "<center><h3> Statistička analiza podataka</h3></center> "
   ]
  },
  {
   "cell_type": "markdown",
   "metadata": {
    "pycharm": {
     "name": "#%% md\n"
    }
   },
   "source": [
    "## Podaci\n",
    "\n",
    "Koristit ćete skup podataka od 18403 glazbene recenzije izvučene iz Pitchfork baze, uključujući relevantne metapodatke kao što su autor recenzije, datum recenzije, godina izdanja ploče, rezultat recenzije i žanr, zajedno sa audio značajkama dotičnog albuma preuzetim iz Spotifyjevog API-ja. Podaci se sastoje od sljedećih stupaca:\n",
    "\n",
    "| Stupac   | Opis  |\n",
    "|----------|:-------------|\n",
    "| `artist`           | Ime izvođača koji je stvorio album koji se pregledava. |\n",
    "| `album`            | Naziv albuma koji se pregledava. |\n",
    "| `recordlabel`      | Ime diskografske kuće koja je objavila album. |\n",
    "| `releaseyear`      | Godina izlaska albuma. |\n",
    "| `score`            | Ocjena koju je recenzent dao albumu na ljestvici od 0,0 do 10,0. |\n",
    "| `reviewauthor`     | Ime autora koji je recenzirao album. |\n",
    "| `genre`            | Žanr koji je albumu dodijelio Pitchfork. |\n",
    "| `reviewdate`       | Datum objave recenzije.  |\n",
    "| `key` | Procijenjeni ukupni glazbeni ključ pjesme. |\n",
    "| `acousticness` | Mjera pouzdanosti od 0,0 do 1,0 je li album akustičan. |\n",
    "| `danceability` | Koliko je album prikladan za ples na temelju kombinacije glazbenih elemenata uključujući tempo, stabilnost ritma, snagu takta i ukupnu pravilnost.\n",
    "| `energy` | Percepcijska mjera intenziteta i aktivnosti. |\n",
    "| `instrumentalness` | Predviđa sadrži li album vokale, od 0,0 do 1,0. |\n",
    "| `liveness` | Detektira prisutnost publike, od 0,0 do 1,0. |\n",
    "| `loudness` | Ukupna glasnoća albuma u decibelima (dB). |\n",
    "| `speechiness` | Mjeri prisutnost izgovorenih riječi u albumu na skali od 0,0 do 1,0. |\n",
    "| `valence` | Mjera od 0,0 do 1,0 koja opisuje glazbenu pozitivnost koju prenosi album. |\n",
    "| `tempo` | Ukupni procijenjeni tempo albuma u otkucajima u minuti (BPM). |"
   ]
  },
  {
   "cell_type": "code",
   "execution_count": 1,
   "metadata": {},
   "outputs": [
    {
     "name": "stdout",
     "output_type": "stream",
     "text": [
      "Defaulting to user installation because normal site-packages is not writeable\n",
      "Requirement already satisfied: pandas in /home/kmaric01.fesb.hr/.local/lib/python3.6/site-packages (1.1.5)\n",
      "Requirement already satisfied: pytz>=2017.2 in /usr/lib/python3.6/site-packages (from pandas) (2017.2)\n",
      "Requirement already satisfied: python-dateutil>=2.7.3 in /home/kmaric01.fesb.hr/.local/lib/python3.6/site-packages (from pandas) (2.8.2)\n",
      "Requirement already satisfied: numpy>=1.15.4 in /home/kmaric01.fesb.hr/.local/lib/python3.6/site-packages (from pandas) (1.19.5)\n",
      "Requirement already satisfied: six>=1.5 in /usr/lib/python3.6/site-packages (from python-dateutil>=2.7.3->pandas) (1.11.0)\n",
      "Note: you may need to restart the kernel to use updated packages.\n"
     ]
    }
   ],
   "source": [
    "pip install pandas"
   ]
  },
  {
   "cell_type": "code",
   "execution_count": 2,
   "metadata": {},
   "outputs": [
    {
     "name": "stdout",
     "output_type": "stream",
     "text": [
      "Defaulting to user installation because normal site-packages is not writeable\n",
      "Requirement already satisfied: seaborn in /home/kmaric01.fesb.hr/.local/lib/python3.6/site-packages (0.11.2)\n",
      "Requirement already satisfied: numpy>=1.15 in /home/kmaric01.fesb.hr/.local/lib/python3.6/site-packages (from seaborn) (1.19.5)\n",
      "Requirement already satisfied: scipy>=1.0 in /home/kmaric01.fesb.hr/.local/lib/python3.6/site-packages (from seaborn) (1.5.4)\n",
      "Requirement already satisfied: matplotlib>=2.2 in /home/kmaric01.fesb.hr/.local/lib/python3.6/site-packages (from seaborn) (3.3.4)\n",
      "Requirement already satisfied: pandas>=0.23 in /home/kmaric01.fesb.hr/.local/lib/python3.6/site-packages (from seaborn) (1.1.5)\n",
      "Requirement already satisfied: python-dateutil>=2.1 in /home/kmaric01.fesb.hr/.local/lib/python3.6/site-packages (from matplotlib>=2.2->seaborn) (2.8.2)\n",
      "Requirement already satisfied: cycler>=0.10 in /home/kmaric01.fesb.hr/.local/lib/python3.6/site-packages (from matplotlib>=2.2->seaborn) (0.11.0)\n",
      "Requirement already satisfied: pyparsing!=2.0.4,!=2.1.2,!=2.1.6,>=2.0.3 in /usr/local/lib/python3.6/site-packages (from matplotlib>=2.2->seaborn) (3.0.9)\n",
      "Requirement already satisfied: kiwisolver>=1.0.1 in /home/kmaric01.fesb.hr/.local/lib/python3.6/site-packages (from matplotlib>=2.2->seaborn) (1.3.1)\n",
      "Requirement already satisfied: pillow>=6.2.0 in /home/kmaric01.fesb.hr/.local/lib/python3.6/site-packages (from matplotlib>=2.2->seaborn) (8.4.0)\n",
      "Requirement already satisfied: pytz>=2017.2 in /usr/lib/python3.6/site-packages (from pandas>=0.23->seaborn) (2017.2)\n",
      "Requirement already satisfied: six>=1.5 in /usr/lib/python3.6/site-packages (from python-dateutil>=2.1->matplotlib>=2.2->seaborn) (1.11.0)\n",
      "Note: you may need to restart the kernel to use updated packages.\n"
     ]
    }
   ],
   "source": [
    "pip install seaborn"
   ]
  },
  {
   "cell_type": "code",
   "execution_count": 3,
   "metadata": {},
   "outputs": [
    {
     "name": "stdout",
     "output_type": "stream",
     "text": [
      "Defaulting to user installation because normal site-packages is not writeable\n",
      "Requirement already satisfied: matplotlib in /home/kmaric01.fesb.hr/.local/lib/python3.6/site-packages (3.3.4)\n",
      "Requirement already satisfied: python-dateutil>=2.1 in /home/kmaric01.fesb.hr/.local/lib/python3.6/site-packages (from matplotlib) (2.8.2)\n",
      "Requirement already satisfied: kiwisolver>=1.0.1 in /home/kmaric01.fesb.hr/.local/lib/python3.6/site-packages (from matplotlib) (1.3.1)\n",
      "Requirement already satisfied: numpy>=1.15 in /home/kmaric01.fesb.hr/.local/lib/python3.6/site-packages (from matplotlib) (1.19.5)\n",
      "Requirement already satisfied: cycler>=0.10 in /home/kmaric01.fesb.hr/.local/lib/python3.6/site-packages (from matplotlib) (0.11.0)\n",
      "Requirement already satisfied: pillow>=6.2.0 in /home/kmaric01.fesb.hr/.local/lib/python3.6/site-packages (from matplotlib) (8.4.0)\n",
      "Requirement already satisfied: pyparsing!=2.0.4,!=2.1.2,!=2.1.6,>=2.0.3 in /usr/local/lib/python3.6/site-packages (from matplotlib) (3.0.9)\n",
      "Requirement already satisfied: six>=1.5 in /usr/lib/python3.6/site-packages (from python-dateutil>=2.1->matplotlib) (1.11.0)\n",
      "Note: you may need to restart the kernel to use updated packages.\n"
     ]
    }
   ],
   "source": [
    "pip install matplotlib"
   ]
  },
  {
   "cell_type": "code",
   "execution_count": 4,
   "metadata": {},
   "outputs": [],
   "source": [
    "import pandas as pd\n",
    "import matplotlib.pyplot as plt\n",
    "from matplotlib import ticker\n",
    "\n",
    "import seaborn as sns\n",
    "import numpy as np\n",
    "import scipy\n",
    "import itertools\n",
    "\n",
    "# datetime operations\n",
    "from datetime import datetime\n",
    "\n",
    "# ttest and euclidean distance\n",
    "from scipy.stats import ttest_ind\n",
    "\n",
    "sns.set_style('whitegrid')"
   ]
  },
  {
   "cell_type": "markdown",
   "metadata": {
    "pycharm": {
     "name": "#%%\n"
    }
   },
   "source": [
    "## Vježba 1: Inicijalna analiza?"
   ]
  },
  {
   "cell_type": "markdown",
   "metadata": {},
   "source": [
    "**Task 1 (Inicijalna analiza)**\n",
    "\n",
    "Kao dobar podatkovni znanstvenik, prvo što morate učiniti je dobro pogledati podatke koji su vam uručeni.\n",
    "\n",
    "1. Učitajte podatke pomoću `pandas`. Identificirajte i uklonite duple recenzije, tj. dvije recenzije s albumima istog benda s istim imenom (zadržite prvo pojavljivanje). Ispišite broj redaka u vašem podatkovnom okviru.\n",
    "\n",
    "2. Nacrtajte distribuciju godina izdavanja albuma i prosječnu ocjenu albuma po godini.\n",
    "\n",
    "3. Za numeričke stupce izračunajte srednju vrijednost, medijan, minimalnu vrijednost i maksimalnu vrijednost. Osim toga, iscrtajte distribuciju za sve numeričke stupce na jednoj slici (po mogućnosti s višestrukim podcrtama). Vaša bi slika trebala biti najviše 14 inča široka i 14 inča dugačka.\n",
    "\n",
    "3. Za kategoričke stupce navedite koliko različitih vrijednosti postoji u svakom stupcu. Ako postoji manje od 10 različitih vrijednosti za kategoriju, ispišite ih sve. Za stupac `genre` dodijelite vrijednost `'Other'` za albume gdje je vrijednost ili `'none'` ili `NaN`.\n",
    "\n",
    "---"
   ]
  },
  {
   "cell_type": "code",
   "execution_count": 5,
   "metadata": {},
   "outputs": [
    {
     "name": "stdout",
     "output_type": "stream",
     "text": [
      "Num. rows: 16738\n"
     ]
    },
    {
     "data": {
      "text/html": [
       "<div>\n",
       "<style scoped>\n",
       "    .dataframe tbody tr th:only-of-type {\n",
       "        vertical-align: middle;\n",
       "    }\n",
       "\n",
       "    .dataframe tbody tr th {\n",
       "        vertical-align: top;\n",
       "    }\n",
       "\n",
       "    .dataframe thead th {\n",
       "        text-align: right;\n",
       "    }\n",
       "</style>\n",
       "<table border=\"1\" class=\"dataframe\">\n",
       "  <thead>\n",
       "    <tr style=\"text-align: right;\">\n",
       "      <th></th>\n",
       "      <th>artist</th>\n",
       "      <th>album</th>\n",
       "      <th>reviewauthor</th>\n",
       "      <th>score</th>\n",
       "      <th>releaseyear</th>\n",
       "      <th>reviewdate</th>\n",
       "      <th>recordlabel</th>\n",
       "      <th>genre</th>\n",
       "      <th>danceability</th>\n",
       "      <th>energy</th>\n",
       "      <th>key</th>\n",
       "      <th>loudness</th>\n",
       "      <th>speechiness</th>\n",
       "      <th>acousticness</th>\n",
       "      <th>instrumentalness</th>\n",
       "      <th>liveness</th>\n",
       "      <th>valence</th>\n",
       "      <th>tempo</th>\n",
       "    </tr>\n",
       "  </thead>\n",
       "  <tbody>\n",
       "    <tr>\n",
       "      <th>0</th>\n",
       "      <td>Studio 1</td>\n",
       "      <td>Studio 1</td>\n",
       "      <td>Andy Battaglia</td>\n",
       "      <td>8.5</td>\n",
       "      <td>2009.0</td>\n",
       "      <td>February 18 2009</td>\n",
       "      <td>Studio</td>\n",
       "      <td>Electronic</td>\n",
       "      <td>0.511917</td>\n",
       "      <td>0.499667</td>\n",
       "      <td>5.250000</td>\n",
       "      <td>-5.626583</td>\n",
       "      <td>0.031983</td>\n",
       "      <td>0.724917</td>\n",
       "      <td>0.024493</td>\n",
       "      <td>0.165367</td>\n",
       "      <td>0.555083</td>\n",
       "      <td>101.395167</td>\n",
       "    </tr>\n",
       "    <tr>\n",
       "      <th>1</th>\n",
       "      <td>John Fahey</td>\n",
       "      <td>The Great Santa Barbara Oil Slick</td>\n",
       "      <td>Mark Richardson</td>\n",
       "      <td>8.2</td>\n",
       "      <td>2005.0</td>\n",
       "      <td>February 13 2005</td>\n",
       "      <td>Water</td>\n",
       "      <td>Folk/Country</td>\n",
       "      <td>0.369765</td>\n",
       "      <td>0.325412</td>\n",
       "      <td>4.470588</td>\n",
       "      <td>-19.153824</td>\n",
       "      <td>0.148624</td>\n",
       "      <td>0.647053</td>\n",
       "      <td>0.559133</td>\n",
       "      <td>0.527782</td>\n",
       "      <td>0.179465</td>\n",
       "      <td>107.622647</td>\n",
       "    </tr>\n",
       "    <tr>\n",
       "      <th>2</th>\n",
       "      <td>Reigning Sound</td>\n",
       "      <td>Too Much Guitar</td>\n",
       "      <td>Stephen M. Deusner</td>\n",
       "      <td>8.3</td>\n",
       "      <td>2004.0</td>\n",
       "      <td>August 19 2004</td>\n",
       "      <td>In the Red</td>\n",
       "      <td>Electronic</td>\n",
       "      <td>0.253943</td>\n",
       "      <td>0.912857</td>\n",
       "      <td>4.428571</td>\n",
       "      <td>-1.089500</td>\n",
       "      <td>0.055500</td>\n",
       "      <td>0.000253</td>\n",
       "      <td>0.751214</td>\n",
       "      <td>0.199071</td>\n",
       "      <td>0.552786</td>\n",
       "      <td>133.895500</td>\n",
       "    </tr>\n",
       "    <tr>\n",
       "      <th>3</th>\n",
       "      <td>The Red Thread</td>\n",
       "      <td>After the Last</td>\n",
       "      <td>Chris Dahlen</td>\n",
       "      <td>7.3</td>\n",
       "      <td>2003.0</td>\n",
       "      <td>July 17 2003</td>\n",
       "      <td>Badman</td>\n",
       "      <td>Rock</td>\n",
       "      <td>0.425400</td>\n",
       "      <td>0.433474</td>\n",
       "      <td>5.700000</td>\n",
       "      <td>-12.871000</td>\n",
       "      <td>0.028260</td>\n",
       "      <td>0.310325</td>\n",
       "      <td>0.224137</td>\n",
       "      <td>0.125150</td>\n",
       "      <td>0.451400</td>\n",
       "      <td>104.354200</td>\n",
       "    </tr>\n",
       "    <tr>\n",
       "      <th>4</th>\n",
       "      <td>Mac Miller</td>\n",
       "      <td>Swimming</td>\n",
       "      <td>Evan Rytlewski</td>\n",
       "      <td>7.5</td>\n",
       "      <td>2018.0</td>\n",
       "      <td>August 3 2018</td>\n",
       "      <td>Warner Bros.</td>\n",
       "      <td>Rap</td>\n",
       "      <td>0.624846</td>\n",
       "      <td>0.438154</td>\n",
       "      <td>4.153846</td>\n",
       "      <td>-9.456077</td>\n",
       "      <td>0.170246</td>\n",
       "      <td>0.652462</td>\n",
       "      <td>0.012819</td>\n",
       "      <td>0.121131</td>\n",
       "      <td>0.281138</td>\n",
       "      <td>122.121308</td>\n",
       "    </tr>\n",
       "  </tbody>\n",
       "</table>\n",
       "</div>"
      ],
      "text/plain": [
       "           artist                              album        reviewauthor  \\\n",
       "0        Studio 1                           Studio 1      Andy Battaglia   \n",
       "1      John Fahey  The Great Santa Barbara Oil Slick     Mark Richardson   \n",
       "2  Reigning Sound                    Too Much Guitar  Stephen M. Deusner   \n",
       "3  The Red Thread                     After the Last        Chris Dahlen   \n",
       "4      Mac Miller                           Swimming      Evan Rytlewski   \n",
       "\n",
       "   score  releaseyear        reviewdate   recordlabel         genre  \\\n",
       "0    8.5       2009.0  February 18 2009        Studio    Electronic   \n",
       "1    8.2       2005.0  February 13 2005         Water  Folk/Country   \n",
       "2    8.3       2004.0    August 19 2004    In the Red    Electronic   \n",
       "3    7.3       2003.0      July 17 2003        Badman          Rock   \n",
       "4    7.5       2018.0     August 3 2018  Warner Bros.           Rap   \n",
       "\n",
       "   danceability    energy       key   loudness  speechiness  acousticness  \\\n",
       "0      0.511917  0.499667  5.250000  -5.626583     0.031983      0.724917   \n",
       "1      0.369765  0.325412  4.470588 -19.153824     0.148624      0.647053   \n",
       "2      0.253943  0.912857  4.428571  -1.089500     0.055500      0.000253   \n",
       "3      0.425400  0.433474  5.700000 -12.871000     0.028260      0.310325   \n",
       "4      0.624846  0.438154  4.153846  -9.456077     0.170246      0.652462   \n",
       "\n",
       "   instrumentalness  liveness   valence       tempo  \n",
       "0          0.024493  0.165367  0.555083  101.395167  \n",
       "1          0.559133  0.527782  0.179465  107.622647  \n",
       "2          0.751214  0.199071  0.552786  133.895500  \n",
       "3          0.224137  0.125150  0.451400  104.354200  \n",
       "4          0.012819  0.121131  0.281138  122.121308  "
      ]
     },
     "execution_count": 5,
     "metadata": {},
     "output_type": "execute_result"
    }
   ],
   "source": [
    "# 1.1\n",
    "\n",
    "pitchfork = pd.read_csv('pitchfork.csv')\n",
    "pitchfork = pitchfork.drop_duplicates(subset=[\"album\", \"artist\"], keep=\"first\")\n",
    "print(\"Num. rows: \" + str(len(pitchfork)))\n",
    "pitchfork.head()"
   ]
  },
  {
   "cell_type": "code",
   "execution_count": 17,
   "metadata": {},
   "outputs": [],
   "source": [
    "numeric_cols = ['score', 'releaseyear', 'danceability', 'energy', 'key',\n",
    "       'speechiness', 'acousticness', 'instrumentalness', 'liveness',\n",
    "       'valence', 'tempo']\n",
    "for i in numeric_cols:\n",
    "    pitchfork = pitchfork.loc[pitchfork[i] != -1].copy(deep=True)\n"
   ]
  },
  {
   "cell_type": "code",
   "execution_count": 19,
   "metadata": {},
   "outputs": [
    {
     "name": "stdout",
     "output_type": "stream",
     "text": [
      "Num. rows: 16731\n"
     ]
    },
    {
     "data": {
      "text/html": [
       "<div>\n",
       "<style scoped>\n",
       "    .dataframe tbody tr th:only-of-type {\n",
       "        vertical-align: middle;\n",
       "    }\n",
       "\n",
       "    .dataframe tbody tr th {\n",
       "        vertical-align: top;\n",
       "    }\n",
       "\n",
       "    .dataframe thead th {\n",
       "        text-align: right;\n",
       "    }\n",
       "</style>\n",
       "<table border=\"1\" class=\"dataframe\">\n",
       "  <thead>\n",
       "    <tr style=\"text-align: right;\">\n",
       "      <th></th>\n",
       "      <th>artist</th>\n",
       "      <th>album</th>\n",
       "      <th>reviewauthor</th>\n",
       "      <th>score</th>\n",
       "      <th>releaseyear</th>\n",
       "      <th>reviewdate</th>\n",
       "      <th>recordlabel</th>\n",
       "      <th>genre</th>\n",
       "      <th>danceability</th>\n",
       "      <th>energy</th>\n",
       "      <th>key</th>\n",
       "      <th>loudness</th>\n",
       "      <th>speechiness</th>\n",
       "      <th>acousticness</th>\n",
       "      <th>instrumentalness</th>\n",
       "      <th>liveness</th>\n",
       "      <th>valence</th>\n",
       "      <th>tempo</th>\n",
       "      <th>releaseyear_notutc</th>\n",
       "    </tr>\n",
       "  </thead>\n",
       "  <tbody>\n",
       "    <tr>\n",
       "      <th>0</th>\n",
       "      <td>Studio 1</td>\n",
       "      <td>Studio 1</td>\n",
       "      <td>Andy Battaglia</td>\n",
       "      <td>8.5</td>\n",
       "      <td>2009-01-01</td>\n",
       "      <td>2009-02-18</td>\n",
       "      <td>Studio</td>\n",
       "      <td>Electronic</td>\n",
       "      <td>0.511917</td>\n",
       "      <td>0.499667</td>\n",
       "      <td>5.250000</td>\n",
       "      <td>-5.626583</td>\n",
       "      <td>0.031983</td>\n",
       "      <td>0.724917</td>\n",
       "      <td>0.024493</td>\n",
       "      <td>0.165367</td>\n",
       "      <td>0.555083</td>\n",
       "      <td>101.395167</td>\n",
       "      <td>2009</td>\n",
       "    </tr>\n",
       "    <tr>\n",
       "      <th>1</th>\n",
       "      <td>John Fahey</td>\n",
       "      <td>The Great Santa Barbara Oil Slick</td>\n",
       "      <td>Mark Richardson</td>\n",
       "      <td>8.2</td>\n",
       "      <td>2005-01-01</td>\n",
       "      <td>2005-02-13</td>\n",
       "      <td>Water</td>\n",
       "      <td>Folk/Country</td>\n",
       "      <td>0.369765</td>\n",
       "      <td>0.325412</td>\n",
       "      <td>4.470588</td>\n",
       "      <td>-19.153824</td>\n",
       "      <td>0.148624</td>\n",
       "      <td>0.647053</td>\n",
       "      <td>0.559133</td>\n",
       "      <td>0.527782</td>\n",
       "      <td>0.179465</td>\n",
       "      <td>107.622647</td>\n",
       "      <td>2005</td>\n",
       "    </tr>\n",
       "    <tr>\n",
       "      <th>2</th>\n",
       "      <td>Reigning Sound</td>\n",
       "      <td>Too Much Guitar</td>\n",
       "      <td>Stephen M. Deusner</td>\n",
       "      <td>8.3</td>\n",
       "      <td>2004-01-01</td>\n",
       "      <td>2004-08-19</td>\n",
       "      <td>In the Red</td>\n",
       "      <td>Electronic</td>\n",
       "      <td>0.253943</td>\n",
       "      <td>0.912857</td>\n",
       "      <td>4.428571</td>\n",
       "      <td>-1.089500</td>\n",
       "      <td>0.055500</td>\n",
       "      <td>0.000253</td>\n",
       "      <td>0.751214</td>\n",
       "      <td>0.199071</td>\n",
       "      <td>0.552786</td>\n",
       "      <td>133.895500</td>\n",
       "      <td>2004</td>\n",
       "    </tr>\n",
       "    <tr>\n",
       "      <th>3</th>\n",
       "      <td>The Red Thread</td>\n",
       "      <td>After the Last</td>\n",
       "      <td>Chris Dahlen</td>\n",
       "      <td>7.3</td>\n",
       "      <td>2003-01-01</td>\n",
       "      <td>2003-07-17</td>\n",
       "      <td>Badman</td>\n",
       "      <td>Rock</td>\n",
       "      <td>0.425400</td>\n",
       "      <td>0.433474</td>\n",
       "      <td>5.700000</td>\n",
       "      <td>-12.871000</td>\n",
       "      <td>0.028260</td>\n",
       "      <td>0.310325</td>\n",
       "      <td>0.224137</td>\n",
       "      <td>0.125150</td>\n",
       "      <td>0.451400</td>\n",
       "      <td>104.354200</td>\n",
       "      <td>2003</td>\n",
       "    </tr>\n",
       "    <tr>\n",
       "      <th>4</th>\n",
       "      <td>Mac Miller</td>\n",
       "      <td>Swimming</td>\n",
       "      <td>Evan Rytlewski</td>\n",
       "      <td>7.5</td>\n",
       "      <td>2018-01-01</td>\n",
       "      <td>2018-08-03</td>\n",
       "      <td>Warner Bros.</td>\n",
       "      <td>Rap</td>\n",
       "      <td>0.624846</td>\n",
       "      <td>0.438154</td>\n",
       "      <td>4.153846</td>\n",
       "      <td>-9.456077</td>\n",
       "      <td>0.170246</td>\n",
       "      <td>0.652462</td>\n",
       "      <td>0.012819</td>\n",
       "      <td>0.121131</td>\n",
       "      <td>0.281138</td>\n",
       "      <td>122.121308</td>\n",
       "      <td>2018</td>\n",
       "    </tr>\n",
       "  </tbody>\n",
       "</table>\n",
       "</div>"
      ],
      "text/plain": [
       "           artist                              album        reviewauthor  \\\n",
       "0        Studio 1                           Studio 1      Andy Battaglia   \n",
       "1      John Fahey  The Great Santa Barbara Oil Slick     Mark Richardson   \n",
       "2  Reigning Sound                    Too Much Guitar  Stephen M. Deusner   \n",
       "3  The Red Thread                     After the Last        Chris Dahlen   \n",
       "4      Mac Miller                           Swimming      Evan Rytlewski   \n",
       "\n",
       "   score releaseyear reviewdate   recordlabel         genre  danceability  \\\n",
       "0    8.5  2009-01-01 2009-02-18        Studio    Electronic      0.511917   \n",
       "1    8.2  2005-01-01 2005-02-13         Water  Folk/Country      0.369765   \n",
       "2    8.3  2004-01-01 2004-08-19    In the Red    Electronic      0.253943   \n",
       "3    7.3  2003-01-01 2003-07-17        Badman          Rock      0.425400   \n",
       "4    7.5  2018-01-01 2018-08-03  Warner Bros.           Rap      0.624846   \n",
       "\n",
       "     energy       key   loudness  speechiness  acousticness  instrumentalness  \\\n",
       "0  0.499667  5.250000  -5.626583     0.031983      0.724917          0.024493   \n",
       "1  0.325412  4.470588 -19.153824     0.148624      0.647053          0.559133   \n",
       "2  0.912857  4.428571  -1.089500     0.055500      0.000253          0.751214   \n",
       "3  0.433474  5.700000 -12.871000     0.028260      0.310325          0.224137   \n",
       "4  0.438154  4.153846  -9.456077     0.170246      0.652462          0.012819   \n",
       "\n",
       "   liveness   valence       tempo  releaseyear_notutc  \n",
       "0  0.165367  0.555083  101.395167                2009  \n",
       "1  0.527782  0.179465  107.622647                2005  \n",
       "2  0.199071  0.552786  133.895500                2004  \n",
       "3  0.125150  0.451400  104.354200                2003  \n",
       "4  0.121131  0.281138  122.121308                2018  "
      ]
     },
     "execution_count": 19,
     "metadata": {},
     "output_type": "execute_result"
    }
   ],
   "source": [
    "print(\"Num. rows: \" + str(len(pitchfork)))\n",
    "pitchfork.head()"
   ]
  },
  {
   "cell_type": "code",
   "execution_count": 38,
   "metadata": {},
   "outputs": [
    {
     "data": {
      "image/png": "[encoded data removed]",
      "text/plain": [
       "<Figure size 1440x504 with 1 Axes>"
      ]
     },
     "metadata": {},
     "output_type": "display_data"
    }
   ],
   "source": [
    "# 1.2\n",
    "\n",
    "pitchfork['reviewdate'] = pd.to_datetime(pitchfork['reviewdate'], format='%B %d %Y')\n",
    "pitchfork['releaseyear'] = pd.to_datetime(pitchfork['releaseyear'], format='%Y')\n",
    "pitchfork['releaseyear_notutc'] = pitchfork.releaseyear.dt.year\n",
    "\n",
    "plt.figure(figsize=(20,7))\n",
    "ax = sns.countplot(data=pitchfork, x=\"releaseyear_notutc\")\n",
    "ax.set_yscale(\"log\")\n",
    "ax.set_xticks([3,13,23,33,43,53])\n",
    "plt.show()"
   ]
  },
  {
   "cell_type": "code",
   "execution_count": 39,
   "metadata": {},
   "outputs": [
    {
     "data": {
      "image/png": "[encoded data removed]",
      "text/plain": [
       "<Figure size 1440x504 with 1 Axes>"
      ]
     },
     "metadata": {},
     "output_type": "display_data"
    }
   ],
   "source": [
    "plt.figure(figsize=(20,7))\n",
    "ax = sns.barplot(data=pitchfork, x=\"releaseyear_notutc\", y=\"score\")\n",
    "ax.set_xticks([3,13,23,33,43,53])\n",
    "plt.show()"
   ]
  },
  {
   "cell_type": "code",
   "execution_count": 40,
   "metadata": {},
   "outputs": [
    {
     "data": {
      "text/plain": [
       "<function matplotlib.pyplot.show(close=None, block=None)>"
      ]
     },
     "execution_count": 40,
     "metadata": {},
     "output_type": "execute_result"
    },
    {
     "data": {
      "image/png": "[encoded data removed]",
      "text/plain": [
       "<Figure size 720x720 with 12 Axes>"
      ]
     },
     "metadata": {},
     "output_type": "display_data"
    }
   ],
   "source": [
    "# 1.3\n",
    "\n",
    "numeric_cols = pitchfork.select_dtypes(include=['int64','float64']).columns\n",
    "# CODE GOES HERE\n",
    "\n",
    "fig, axes = plt.subplots(4, 3, figsize=(10,10))\n",
    "\n",
    "for i, ax in zip(enumerate(numeric_cols), axes.flat):\n",
    "    sns.histplot(ax=ax, data=pitchfork[i[1]])\n",
    "\n",
    "plt.show"
   ]
  },
  {
   "cell_type": "code",
   "execution_count": 42,
   "metadata": {},
   "outputs": [
    {
     "data": {
      "text/plain": [
       "array(['Electronic', 'Folk/Country', 'Rock', 'Rap', 'Global',\n",
       "       'Experimental', 'Metal', 'Pop/R&B', 'Jazz', 'none'], dtype=object)"
      ]
     },
     "execution_count": 42,
     "metadata": {},
     "output_type": "execute_result"
    }
   ],
   "source": [
    "# 1.4 \n",
    "\n",
    "\n",
    "pitchfork['genre'].str.replace('none', 'Other')\n",
    "pitchfork['genre'].unique()\n"
   ]
  },
  {
   "cell_type": "markdown",
   "metadata": {},
   "source": [
    "## Vježba 2: Sindrom drugog albuma"
   ]
  },
  {
   "cell_type": "markdown",
   "metadata": {
    "pycharm": {
     "name": "#%% md\n"
    }
   },
   "source": [
    "**Task 2 (Preliminarna analiza)**\n",
    "\n",
    "Počinjete provođenjem neke preliminarne obrade podataka i analiza.\n",
    "\n",
    "1. Napravite novi dataframe (od izvornih podataka s izbačenim duplikatima, isti kao što ste dobili nakon završetka zadatka 1.1) koji sadrži samo albume izvođača s dva ili više albuma i gdje godina izdanja nije prazna.\n",
    "2. Napravite novi stupac `album_number` koji označava koliko je albuma izvođač producirao prije ovog (prije drugog albuma, izvođač je već producirao jedan album).\n",
    "3. Izračunajte srednju vrijednost i standardnu pogrešku za srednju vrijednost rezultata prvog i drugog albuma u skupu podataka. Dodatno, nacrtajte dvije distribucije.\n",
    "4. Koristite odgovarajuću metodu da odredite je li razlika u sredinama 1. i 2. albuma statistički signigikantna?\n",
    "5. **Diskutirajte:** Sugeriraju li ove analize postojanje \"sindroma drugog albuma\"?\n",
    "\n",
    "---"
   ]
  },
  {
   "cell_type": "code",
   "execution_count": 10,
   "metadata": {},
   "outputs": [],
   "source": [
    "# 5.1\n",
    "\n",
    "pitchfork = pd.read_csv('pitchfork.csv')\n",
    "pitchfork = pitchfork.drop_duplicates(subset=[\"album\", \"artist\"], keep=\"first\")\n",
    "pitchfork['reviewdate'] = pd.to_datetime(pitchfork['reviewdate'], format='%B %d %Y')\n",
    "pitchfork['releaseyear'] = pd.to_datetime(pitchfork['releaseyear'], format='%Y')\n",
    "pitchfork['releaseyear_notutc'] = pitchfork.releaseyear.dt.year\n",
    "\n",
    "filtered_artists = pitchfork.groupby('artist').size().loc[lambda x : x > 1].index\n",
    "\n",
    "two_ormore = pitchfork[pitchfork.artist.isin(filtered_artists)].copy()"
   ]
  },
  {
   "cell_type": "code",
   "execution_count": 11,
   "metadata": {},
   "outputs": [],
   "source": [
    "# 5.2\n",
    "\n",
    "# adding album number\n"
   ]
  },
  {
   "cell_type": "code",
   "execution_count": 12,
   "metadata": {},
   "outputs": [],
   "source": [
    "# 5.3\n"
   ]
  },
  {
   "cell_type": "code",
   "execution_count": 13,
   "metadata": {},
   "outputs": [],
   "source": [
    "# 5.4\n"
   ]
  }
 ],
 "metadata": {
  "kernelspec": {
   "display_name": "Python 3",
   "language": "python",
   "name": "python3"
  },
  "language_info": {
   "codemirror_mode": {
    "name": "ipython",
    "version": 3
   },
   "file_extension": ".py",
   "mimetype": "text/x-python",
   "name": "python",
   "nbconvert_exporter": "python",
   "pygments_lexer": "ipython3",
   "version": "3.6.8"
  },
  "pycharm": {
   "stem_cell": {
    "cell_type": "raw",
    "metadata": {
     "collapsed": false
    },
    "source": []
   }
  }
 },
 "nbformat": 4,
 "nbformat_minor": 4
}
